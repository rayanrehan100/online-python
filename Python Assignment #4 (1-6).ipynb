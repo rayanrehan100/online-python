{
 "cells": [
  {
   "cell_type": "code",
   "execution_count": 5,
   "id": "2fe9442e",
   "metadata": {},
   "outputs": [
    {
     "name": "stdout",
     "output_type": "stream",
     "text": [
      "Please select operation -\n",
      "1. Add\n",
      "2. Subtract\n",
      "3. Multiply\n",
      "4. Divide\n",
      "\n",
      "Select operations form 1, 2, 3, 4 :4\n",
      "Enter first number: 10\n",
      "Enter second number: 2\n",
      "10 / 2 = 5.0\n"
     ]
    }
   ],
   "source": [
    "# Python program for simple calculator\n",
    "\n",
    "\n",
    "def add(num1, num2):\n",
    "    return num1 + num2\n",
    "def subtract(num1, num2):\n",
    "    return num1 - num2\n",
    "def multiply(num1, num2):\n",
    "    return num1 * num2\n",
    "def divide(num1, num2):\n",
    "    return num1 / num2\n",
    "\n",
    "print(\"Please select operation -\\n\" \n",
    "  \"1. Add\\n\" \n",
    "  \"2. Subtract\\n\" \n",
    "  \"3. Multiply\\n\" \n",
    "  \"4. Divide\\n\")\n",
    "\n",
    "select = int(input(\"Select operations form 1, 2, 3, 4 :\"))\n",
    "\n",
    "number_1 = int(input(\"Enter first number: \"))\n",
    "number_2 = int(input(\"Enter second number: \"))\n",
    "\n",
    "if select == 1:\n",
    "    print(number_1, \"+\", number_2, \"=\",\n",
    "    add(number_1, number_2))\n",
    "\n",
    "elif select == 2:\n",
    "    print(number_1, \"-\", number_2, \"=\",\n",
    "    subtract(number_1, number_2))\n",
    "\n",
    "elif select == 3:\n",
    "    print(number_1, \"*\", number_2, \"=\",\n",
    "    multiply(number_1, number_2))\n",
    "\n",
    "elif select == 4:\n",
    "     print(number_1, \"/\", number_2, \"=\",\n",
    "    divide(number_1, number_2))\n",
    "else:\n",
    "    print(\"Invalid input\")\n"
   ]
  },
  {
   "cell_type": "code",
   "execution_count": 7,
   "id": "d7c33f87",
   "metadata": {},
   "outputs": [
    {
     "name": "stdout",
     "output_type": "stream",
     "text": [
      "4\n"
     ]
    }
   ],
   "source": [
    "#a program to check if there is any numeric value in list\n",
    "list = [\"abc\", \"def\", 4, \"ghi\"] \n",
    "for x in list: \n",
    "    if type(x) == int: \n",
    "        print(x)\n",
    "    "
   ]
  },
  {
   "cell_type": "code",
   "execution_count": 8,
   "id": "c3b493ca",
   "metadata": {},
   "outputs": [
    {
     "name": "stdout",
     "output_type": "stream",
     "text": [
      "{'first name': 'Rayan', 'lastname': 'Rehan', 'address': 'Block 13', 'city': 'karachi'}\n"
     ]
    }
   ],
   "source": [
    "#program to add a key to a dictionary.\n",
    "customer_3989 = {\"first name\": \"Rayan\", \"lastname\": \"Rehan\", \"address\": \"Block 13\"}\n",
    "customer_3989[\"city\"] = \"karachi\"\n",
    "print(customer_3989)"
   ]
  },
  {
   "cell_type": "code",
   "execution_count": 9,
   "id": "1bce2045",
   "metadata": {},
   "outputs": [
    {
     "name": "stdout",
     "output_type": "stream",
     "text": [
      "[4, 5]\n"
     ]
    }
   ],
   "source": [
    "#program to identify duplicate values from list.\n",
    "a= [1,2,3,4,5]\n",
    "b = [4,5,6,7,8]\n",
    "c=[]\n",
    "for i in a:\n",
    "    for j in b:\n",
    "        if (i==j):\n",
    "            c.append(i);\n",
    "print(c);"
   ]
  },
  {
   "cell_type": "code",
   "execution_count": 12,
   "id": "62c978d7",
   "metadata": {},
   "outputs": [
    {
     "name": "stdout",
     "output_type": "stream",
     "text": [
      "None\n"
     ]
    }
   ],
   "source": [
    "#a program to check if a given key already exists in a dictionary\n",
    "a = {'b':[\"boy\",\"girl\"],\n",
    "    'c': [\"he\",\"she\"]}\n",
    "print(a.get(j))"
   ]
  },
  {
   "cell_type": "code",
   "execution_count": 16,
   "id": "a4a2903b",
   "metadata": {},
   "outputs": [
    {
     "name": "stdout",
     "output_type": "stream",
     "text": [
      "125\n"
     ]
    }
   ],
   "source": [
    "#a program to sum all the numeric items in a dictionary.\n",
    "dict_ = {'data1':100,'data2':5,'data3':20}\n",
    "print(sum(dict_.values()))"
   ]
  },
  {
   "cell_type": "code",
   "execution_count": null,
   "id": "0339f4c8",
   "metadata": {},
   "outputs": [],
   "source": []
  }
 ],
 "metadata": {
  "kernelspec": {
   "display_name": "Python 3",
   "language": "python",
   "name": "python3"
  },
  "language_info": {
   "codemirror_mode": {
    "name": "ipython",
    "version": 3
   },
   "file_extension": ".py",
   "mimetype": "text/x-python",
   "name": "python",
   "nbconvert_exporter": "python",
   "pygments_lexer": "ipython3",
   "version": "3.8.8"
  }
 },
 "nbformat": 4,
 "nbformat_minor": 5
}
